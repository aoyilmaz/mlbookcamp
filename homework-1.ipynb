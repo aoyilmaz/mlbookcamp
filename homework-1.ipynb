{
 "cells": [
  {
   "cell_type": "markdown",
   "id": "66ced1f2",
   "metadata": {},
   "source": [
    "# Session #1 Homework"
   ]
  },
  {
   "cell_type": "markdown",
   "id": "0eadb5a1",
   "metadata": {},
   "source": [
    "### Set up the environment"
   ]
  },
  {
   "cell_type": "markdown",
   "id": "6e81dfff",
   "metadata": {},
   "source": [
    "You need to install Python, NumPy, Pandas, Matplotlib and Seaborn. For that, you can the instructions from __[06-environment.md.](https://github.com/alexeygrigorev/mlbookcamp-code/blob/master/course-zoomcamp/01-intro/06-environment.md)__"
   ]
  },
  {
   "cell_type": "markdown",
   "id": "a9815939",
   "metadata": {},
   "source": [
    "### Question 1"
   ]
  },
  {
   "cell_type": "markdown",
   "id": "f5f57d39",
   "metadata": {},
   "source": [
    "What's the version of NumPy that you installed?\n",
    "\n",
    "You can get the version information using the \\__version__ field:"
   ]
  },
  {
   "cell_type": "markdown",
   "id": "a87134ab",
   "metadata": {},
   "source": [
    "### Getting the data"
   ]
  },
  {
   "cell_type": "markdown",
   "id": "f0e94578",
   "metadata": {},
   "source": [
    "For this homework, we'll use the Car price dataset. Download it from __[here.](https://raw.githubusercontent.com/alexeygrigorev/mlbookcamp-code/master/chapter-02-car-price/data.csv)__"
   ]
  },
  {
   "cell_type": "markdown",
   "id": "a914ece6",
   "metadata": {},
   "source": [
    "You can do it with wget:"
   ]
  },
  {
   "cell_type": "markdown",
   "id": "27b11443",
   "metadata": {},
   "source": [
    "Or just open it with your browser and click \"Save as...\".\n",
    "\n",
    "Now read it with Pandas."
   ]
  },
  {
   "cell_type": "markdown",
   "id": "21496561",
   "metadata": {},
   "source": [
    "### Question 2"
   ]
  },
  {
   "cell_type": "markdown",
   "id": "966623ce",
   "metadata": {},
   "source": [
    "How many records are in the dataset?\n",
    "\n",
    "Here you need to specify the number of rows.\n",
    "\n",
    "- 16\n",
    "- 6572\n",
    "- 11914\n",
    "- 18990\n"
   ]
  },
  {
   "cell_type": "markdown",
   "id": "a220bdfd",
   "metadata": {},
   "source": [
    "The answer is 11914."
   ]
  },
  {
   "cell_type": "markdown",
   "id": "d2995713",
   "metadata": {},
   "source": [
    "### Question 3"
   ]
  },
  {
   "cell_type": "markdown",
   "id": "3f2f3a21",
   "metadata": {},
   "source": [
    "Who are the most frequent car manufacturers (top-3) according to the dataset?\n",
    "\n",
    "- Chevrolet, Volkswagen, Toyota\n",
    "- Chevrolet, Ford, Toyota\n",
    "- Ford, Volkswagen, Toyota\n",
    "- Chevrolet, Ford, Volkswagen\n",
    "\n",
    "Note: You should rely on \"Make\" column in this question."
   ]
  },
  {
   "cell_type": "markdown",
   "id": "aa51781b",
   "metadata": {},
   "source": [
    "The answer is Chevrolet, Ford, Wolkswagen."
   ]
  },
  {
   "cell_type": "markdown",
   "id": "23555951",
   "metadata": {},
   "source": [
    "### Question 4"
   ]
  },
  {
   "cell_type": "markdown",
   "id": "a5f2fc4c",
   "metadata": {},
   "source": [
    "What's the number of unique Audi car models in the dataset?\n",
    "\n",
    "- 3\n",
    "- 16\n",
    "- 26\n",
    "- 34\n"
   ]
  },
  {
   "cell_type": "markdown",
   "id": "2bfdf580",
   "metadata": {},
   "source": [
    "The answer is 34."
   ]
  },
  {
   "cell_type": "markdown",
   "id": "7ae04234",
   "metadata": {},
   "source": [
    "### Question 5"
   ]
  },
  {
   "cell_type": "markdown",
   "id": "e65e32af",
   "metadata": {},
   "source": [
    "How many columns in the dataset have missing values?\n",
    "- 5\n",
    "- 6\n",
    "- 7\n",
    "- 8"
   ]
  },
  {
   "cell_type": "markdown",
   "id": "e7481ae0",
   "metadata": {},
   "source": [
    "The answer is 5."
   ]
  },
  {
   "cell_type": "markdown",
   "id": "9e9c922e",
   "metadata": {},
   "source": [
    "### Question 6"
   ]
  },
  {
   "cell_type": "markdown",
   "id": "a5f848b7",
   "metadata": {},
   "source": [
    "\n",
    "1. Find the median value of \"Engine Cylinders\" column in the dataset.\n",
    "2. Next, calculate the most frequent value of the same \"Engine Cylinders\".\n",
    "3. Use the fillna method to fill the missing values in \"Engine Cylinders\" with the most frequent value from the previous step.\n",
    "4. Now, calculate the median value of \"Engine Cylinders\" once again.\n",
    "\n",
    "Has it changed?\n",
    "\n",
    "    Hint: refer to existing mode and median functions to complete the task.\n",
    "\n",
    "- Yes\n",
    "- No\n"
   ]
  },
  {
   "cell_type": "markdown",
   "id": "368da7c7",
   "metadata": {},
   "source": [
    "Has it changed the median?\n",
    "\n",
    "No."
   ]
  },
  {
   "cell_type": "markdown",
   "id": "99ee77ed",
   "metadata": {},
   "source": [
    "### Question 7"
   ]
  },
  {
   "cell_type": "markdown",
   "id": "711e0bd4",
   "metadata": {},
   "source": [
    "\n",
    "1. Select all the \"Lotus\" cars from the dataset.\n",
    "2. Select only columns \"Engine HP\", \"Engine Cylinders\".\n",
    "3. Now drop all duplicated rows using drop_duplicates method (you should get a dataframe with 9 rows).\n",
    "4. Get the underlying NumPy array. Let's call it X.\n",
    "5. Compute matrix-matrix multiplication between the transpose of X and X. To get the transpose, use X.T. Let's call the result XTX.\n",
    "6. Invert XTX.\n",
    "7. Create an array y with values [1100, 800, 750, 850, 1300, 1000, 1000, 1300, 800].\n",
    "8. Multiply the inverse of XTX with the transpose of X, and then multiply the result by y. Call the result w.\n",
    "9. What's the value of the first element of w?\n",
    "\n",
    "- -0.0723\n",
    "- 4.5949\n",
    "- 31.6537\n",
    "- 63.5643\n"
   ]
  }
 ],
 "metadata": {
  "kernelspec": {
   "display_name": "Python 3.10.4 ('ml-zoomcamp')",
   "language": "python",
   "name": "python3"
  },
  "language_info": {
   "codemirror_mode": {
    "name": "ipython",
    "version": 3
   },
   "file_extension": ".py",
   "mimetype": "text/x-python",
   "name": "python",
   "nbconvert_exporter": "python",
   "pygments_lexer": "ipython3",
   "version": "3.10.4"
  },
  "vscode": {
   "interpreter": {
    "hash": "98cae4c0950e14cccdbd96a7bf6be13e28acd7ae11d45bd30c7306f913080d95"
   }
  }
 },
 "nbformat": 4,
 "nbformat_minor": 5
}
