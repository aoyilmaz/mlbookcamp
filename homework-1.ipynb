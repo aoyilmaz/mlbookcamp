{
 "cells": [
  {
   "cell_type": "markdown",
   "id": "66ced1f2",
   "metadata": {},
   "source": [
    "# Session #1 Homework"
   ]
  },
  {
   "cell_type": "markdown",
   "id": "0eadb5a1",
   "metadata": {},
   "source": [
    "### Set up the environment"
   ]
  },
  {
   "cell_type": "markdown",
   "id": "6e81dfff",
   "metadata": {},
   "source": [
    "You need to install Python, NumPy, Pandas, Matplotlib and Seaborn. For that, you can the instructions from __[06-environment.md.](https://github.com/alexeygrigorev/mlbookcamp-code/blob/master/course-zoomcamp/01-intro/06-environment.md)__"
   ]
  },
  {
   "cell_type": "markdown",
   "id": "a9815939",
   "metadata": {},
   "source": [
    "### Question 1"
   ]
  },
  {
   "cell_type": "markdown",
   "id": "f5f57d39",
   "metadata": {},
   "source": [
    "What's the version of NumPy that you installed?\n",
    "\n",
    "You can get the version information using the \\__version__ field:"
   ]
  },
  {
   "cell_type": "code",
   "execution_count": 1,
   "id": "55716d4d",
   "metadata": {},
   "outputs": [
    {
     "data": {
      "text/plain": [
       "'1.22.4'"
      ]
     },
     "execution_count": 1,
     "metadata": {},
     "output_type": "execute_result"
    }
   ],
   "source": [
    "import numpy as np\n",
    "\n",
    "np.__version__"
   ]
  },
  {
   "cell_type": "markdown",
   "id": "a87134ab",
   "metadata": {},
   "source": [
    "### Getting the data"
   ]
  },
  {
   "cell_type": "markdown",
   "id": "f0e94578",
   "metadata": {},
   "source": [
    "For this homework, we'll use the Car price dataset. Download it from __[here.](https://raw.githubusercontent.com/alexeygrigorev/mlbookcamp-code/master/chapter-02-car-price/data.csv)__"
   ]
  },
  {
   "cell_type": "markdown",
   "id": "a914ece6",
   "metadata": {},
   "source": [
    "You can do it with wget:"
   ]
  },
  {
   "cell_type": "code",
   "execution_count": 2,
   "id": "df39b10f",
   "metadata": {},
   "outputs": [
    {
     "name": "stdout",
     "output_type": "stream",
     "text": [
      "--2022-09-10 21:53:19--  https://raw.githubusercontent.com/alexeygrigorev/mlbookcamp-code/master/chapter-02-car-price/data.csv\n",
      "CA sertifikası '/etc/ssl/certs/ca-certificates.crt' yüklendi\n",
      "raw.githubusercontent.com (raw.githubusercontent.com) çözümleniyor... 185.199.108.133, 185.199.110.133, 185.199.111.133, ...\n",
      "raw.githubusercontent.com (raw.githubusercontent.com)[185.199.108.133]:443 bağlanılıyor... bağlantı kuruldu.\n",
      "HTTP isteği gönderildi, yanıt bekleniyor... 200 OK\n",
      "Uzunluk: 1475504 (1,4M) [text/plain]\n",
      "Kayıt yeri: `data.csv.1'\n",
      "\n",
      "data.csv.1          100%[===================>]   1,41M   157KB/s    içinde 8,1s\n",
      "\n",
      "2022-09-10 21:53:28 (178 KB/s) - `data.csv.1' kaydedildi [1475504/1475504]\n",
      "\n"
     ]
    }
   ],
   "source": [
    "!wget https://raw.githubusercontent.com/alexeygrigorev/mlbookcamp-code/master/chapter-02-car-price/data.csv"
   ]
  },
  {
   "cell_type": "markdown",
   "id": "27b11443",
   "metadata": {},
   "source": [
    "Or just open it with your browser and click \"Save as...\".\n",
    "\n",
    "Now read it with Pandas."
   ]
  },
  {
   "cell_type": "code",
   "execution_count": 27,
   "id": "e971a677",
   "metadata": {},
   "outputs": [],
   "source": [
    "import pandas as pd\n",
    "df = pd.read_csv('data.csv')"
   ]
  },
  {
   "cell_type": "markdown",
   "id": "21496561",
   "metadata": {},
   "source": [
    "### Question 2"
   ]
  },
  {
   "cell_type": "markdown",
   "id": "966623ce",
   "metadata": {},
   "source": [
    "How many records are in the dataset?\n",
    "\n",
    "Here you need to specify the number of rows.\n",
    "\n",
    "- 16\n",
    "- 6572\n",
    "- 11914\n",
    "- 18990\n"
   ]
  },
  {
   "cell_type": "code",
   "execution_count": 4,
   "id": "17e41b46",
   "metadata": {},
   "outputs": [
    {
     "data": {
      "text/plain": [
       "(11914, 16)"
      ]
     },
     "execution_count": 4,
     "metadata": {},
     "output_type": "execute_result"
    }
   ],
   "source": [
    "df.shape"
   ]
  },
  {
   "cell_type": "code",
   "execution_count": 5,
   "id": "77db20fc",
   "metadata": {},
   "outputs": [
    {
     "data": {
      "text/plain": [
       "11914"
      ]
     },
     "execution_count": 5,
     "metadata": {},
     "output_type": "execute_result"
    }
   ],
   "source": [
    "df.shape[0]"
   ]
  },
  {
   "cell_type": "markdown",
   "id": "a220bdfd",
   "metadata": {},
   "source": [
    "The answer is 11914."
   ]
  },
  {
   "cell_type": "markdown",
   "id": "d2995713",
   "metadata": {},
   "source": [
    "### Question 3"
   ]
  },
  {
   "cell_type": "markdown",
   "id": "3f2f3a21",
   "metadata": {},
   "source": [
    "Who are the most frequent car manufacturers (top-3) according to the dataset?\n",
    "\n",
    "- Chevrolet, Volkswagen, Toyota\n",
    "- Chevrolet, Ford, Toyota\n",
    "- Ford, Volkswagen, Toyota\n",
    "- Chevrolet, Ford, Volkswagen\n",
    "\n",
    "Note: You should rely on \"Make\" column in this question."
   ]
  },
  {
   "cell_type": "code",
   "execution_count": 6,
   "id": "4c78c5d9",
   "metadata": {},
   "outputs": [
    {
     "data": {
      "text/plain": [
       "Chevrolet     1123\n",
       "Ford           881\n",
       "Volkswagen     809\n",
       "Name: Make, dtype: int64"
      ]
     },
     "execution_count": 6,
     "metadata": {},
     "output_type": "execute_result"
    }
   ],
   "source": [
    "df.Make.value_counts().head(3)"
   ]
  },
  {
   "cell_type": "markdown",
   "id": "aa51781b",
   "metadata": {},
   "source": [
    "The answer is Chevrolet, Ford, Wolkswagen."
   ]
  },
  {
   "cell_type": "markdown",
   "id": "23555951",
   "metadata": {},
   "source": [
    "### Question 4"
   ]
  },
  {
   "cell_type": "markdown",
   "id": "a5f2fc4c",
   "metadata": {},
   "source": [
    "What's the number of unique Audi car models in the dataset?\n",
    "\n",
    "- 3\n",
    "- 16\n",
    "- 26\n",
    "- 34\n"
   ]
  },
  {
   "cell_type": "code",
   "execution_count": 7,
   "id": "5f77d684",
   "metadata": {},
   "outputs": [
    {
     "data": {
      "text/plain": [
       "34"
      ]
     },
     "execution_count": 7,
     "metadata": {},
     "output_type": "execute_result"
    }
   ],
   "source": [
    "df.Model[df.Make == 'Audi'].nunique()"
   ]
  },
  {
   "cell_type": "markdown",
   "id": "2bfdf580",
   "metadata": {},
   "source": [
    "The answer is 34."
   ]
  },
  {
   "cell_type": "markdown",
   "id": "7ae04234",
   "metadata": {},
   "source": [
    "### Question 5"
   ]
  },
  {
   "cell_type": "markdown",
   "id": "e65e32af",
   "metadata": {},
   "source": [
    "How many columns in the dataset have missing values?\n",
    "- 5\n",
    "- 6\n",
    "- 7\n",
    "- 8"
   ]
  },
  {
   "cell_type": "code",
   "execution_count": 8,
   "id": "38d10f61",
   "metadata": {},
   "outputs": [
    {
     "data": {
      "text/plain": [
       "Make                    0\n",
       "Model                   0\n",
       "Year                    0\n",
       "Engine Fuel Type        3\n",
       "Engine HP              69\n",
       "Engine Cylinders       30\n",
       "Transmission Type       0\n",
       "Driven_Wheels           0\n",
       "Number of Doors         6\n",
       "Market Category      3742\n",
       "Vehicle Size            0\n",
       "Vehicle Style           0\n",
       "highway MPG             0\n",
       "city mpg                0\n",
       "Popularity              0\n",
       "MSRP                    0\n",
       "dtype: int64"
      ]
     },
     "execution_count": 8,
     "metadata": {},
     "output_type": "execute_result"
    }
   ],
   "source": [
    "df.isnull().sum()"
   ]
  },
  {
   "cell_type": "markdown",
   "id": "e7481ae0",
   "metadata": {},
   "source": [
    "The answer is 5."
   ]
  },
  {
   "cell_type": "markdown",
   "id": "9e9c922e",
   "metadata": {},
   "source": [
    "### Question 6"
   ]
  },
  {
   "cell_type": "markdown",
   "id": "a5f848b7",
   "metadata": {},
   "source": [
    "\n",
    "1. Find the median value of \"Engine Cylinders\" column in the dataset.\n",
    "2. Next, calculate the most frequent value of the same \"Engine Cylinders\".\n",
    "3. Use the fillna method to fill the missing values in \"Engine Cylinders\" with the most frequent value from the previous step.\n",
    "4. Now, calculate the median value of \"Engine Cylinders\" once again.\n",
    "\n",
    "Has it changed?\n",
    "\n",
    "    Hint: refer to existing mode and median functions to complete the task.\n",
    "\n",
    "- Yes\n",
    "- No\n"
   ]
  },
  {
   "cell_type": "code",
   "execution_count": 12,
   "id": "79c012be",
   "metadata": {},
   "outputs": [
    {
     "data": {
      "text/plain": [
       "6.0"
      ]
     },
     "execution_count": 12,
     "metadata": {},
     "output_type": "execute_result"
    }
   ],
   "source": [
    "# 1. Find the median value of \"Engine Cylinders\" column in the dataset.\n",
    "df['Engine Cylinders'].median()"
   ]
  },
  {
   "cell_type": "code",
   "execution_count": 13,
   "id": "25b11011",
   "metadata": {},
   "outputs": [
    {
     "data": {
      "text/plain": [
       "0    4.0\n",
       "Name: Engine Cylinders, dtype: float64"
      ]
     },
     "execution_count": 13,
     "metadata": {},
     "output_type": "execute_result"
    }
   ],
   "source": [
    "# 2. Next, calculate the most frequent value of the same \"Engine Cylinders\".\n",
    "df['Engine Cylinders'].mode()"
   ]
  },
  {
   "cell_type": "code",
   "execution_count": 15,
   "id": "a4c19272",
   "metadata": {},
   "outputs": [
    {
     "data": {
      "text/plain": [
       "0        6.0\n",
       "1        6.0\n",
       "2        6.0\n",
       "3        6.0\n",
       "4        6.0\n",
       "        ... \n",
       "11909    6.0\n",
       "11910    6.0\n",
       "11911    6.0\n",
       "11912    6.0\n",
       "11913    6.0\n",
       "Name: Engine Cylinders, Length: 11914, dtype: float64"
      ]
     },
     "execution_count": 15,
     "metadata": {},
     "output_type": "execute_result"
    }
   ],
   "source": [
    "# 3. Use the fillna method to fill the missing values in \"Engine Cylinders\" with the most frequent value from the previous step.\n",
    "df['Engine Cylinders'].fillna(df['Engine Cylinders'].mode())"
   ]
  },
  {
   "cell_type": "code",
   "execution_count": 16,
   "id": "9ff03ebd",
   "metadata": {},
   "outputs": [
    {
     "data": {
      "text/plain": [
       "6.0"
      ]
     },
     "execution_count": 16,
     "metadata": {},
     "output_type": "execute_result"
    }
   ],
   "source": [
    "# 4. Now, calculate the median value of \"Engine Cylinders\" once again.\n",
    "df['Engine Cylinders'].median()"
   ]
  },
  {
   "cell_type": "markdown",
   "id": "368da7c7",
   "metadata": {},
   "source": [
    "Has it changed the median?\n",
    "\n",
    "No."
   ]
  },
  {
   "cell_type": "markdown",
   "id": "99ee77ed",
   "metadata": {},
   "source": [
    "### Question 7"
   ]
  },
  {
   "cell_type": "markdown",
   "id": "711e0bd4",
   "metadata": {},
   "source": [
    "\n",
    "1. Select all the \"Lotus\" cars from the dataset.\n",
    "2. Select only columns \"Engine HP\", \"Engine Cylinders\".\n",
    "3. Now drop all duplicated rows using drop_duplicates method (you should get a dataframe with 9 rows).\n",
    "4. Get the underlying NumPy array. Let's call it X.\n",
    "5. Compute matrix-matrix multiplication between the transpose of X and X. To get the transpose, use X.T. Let's call the result XTX.\n",
    "6. Invert XTX.\n",
    "7. Create an array y with values [1100, 800, 750, 850, 1300, 1000, 1000, 1300, 800].\n",
    "8. Multiply the inverse of XTX with the transpose of X, and then multiply the result by y. Call the result w.\n",
    "9. What's the value of the first element of w?\n",
    "\n",
    "- -0.0723\n",
    "- 4.5949\n",
    "- 31.6537\n",
    "- 63.5643\n"
   ]
  },
  {
   "cell_type": "code",
   "execution_count": 20,
   "id": "52324e10",
   "metadata": {},
   "outputs": [
    {
     "data": {
      "text/html": [
       "<div>\n",
       "<style scoped>\n",
       "    .dataframe tbody tr th:only-of-type {\n",
       "        vertical-align: middle;\n",
       "    }\n",
       "\n",
       "    .dataframe tbody tr th {\n",
       "        vertical-align: top;\n",
       "    }\n",
       "\n",
       "    .dataframe thead th {\n",
       "        text-align: right;\n",
       "    }\n",
       "</style>\n",
       "<table border=\"1\" class=\"dataframe\">\n",
       "  <thead>\n",
       "    <tr style=\"text-align: right;\">\n",
       "      <th></th>\n",
       "      <th>Make</th>\n",
       "      <th>Model</th>\n",
       "      <th>Year</th>\n",
       "      <th>Engine Fuel Type</th>\n",
       "      <th>Engine HP</th>\n",
       "      <th>Engine Cylinders</th>\n",
       "      <th>Transmission Type</th>\n",
       "      <th>Driven_Wheels</th>\n",
       "      <th>Number of Doors</th>\n",
       "      <th>Market Category</th>\n",
       "      <th>Vehicle Size</th>\n",
       "      <th>Vehicle Style</th>\n",
       "      <th>highway MPG</th>\n",
       "      <th>city mpg</th>\n",
       "      <th>Popularity</th>\n",
       "      <th>MSRP</th>\n",
       "    </tr>\n",
       "  </thead>\n",
       "  <tbody>\n",
       "    <tr>\n",
       "      <th>3912</th>\n",
       "      <td>Lotus</td>\n",
       "      <td>Elise</td>\n",
       "      <td>2009</td>\n",
       "      <td>premium unleaded (required)</td>\n",
       "      <td>189.0</td>\n",
       "      <td>4.0</td>\n",
       "      <td>MANUAL</td>\n",
       "      <td>rear wheel drive</td>\n",
       "      <td>2.0</td>\n",
       "      <td>Exotic,High-Performance</td>\n",
       "      <td>Compact</td>\n",
       "      <td>Convertible</td>\n",
       "      <td>27</td>\n",
       "      <td>21</td>\n",
       "      <td>613</td>\n",
       "      <td>43995</td>\n",
       "    </tr>\n",
       "    <tr>\n",
       "      <th>3913</th>\n",
       "      <td>Lotus</td>\n",
       "      <td>Elise</td>\n",
       "      <td>2009</td>\n",
       "      <td>premium unleaded (required)</td>\n",
       "      <td>218.0</td>\n",
       "      <td>4.0</td>\n",
       "      <td>MANUAL</td>\n",
       "      <td>rear wheel drive</td>\n",
       "      <td>2.0</td>\n",
       "      <td>Exotic,High-Performance</td>\n",
       "      <td>Compact</td>\n",
       "      <td>Convertible</td>\n",
       "      <td>26</td>\n",
       "      <td>20</td>\n",
       "      <td>613</td>\n",
       "      <td>54990</td>\n",
       "    </tr>\n",
       "    <tr>\n",
       "      <th>3914</th>\n",
       "      <td>Lotus</td>\n",
       "      <td>Elise</td>\n",
       "      <td>2009</td>\n",
       "      <td>premium unleaded (required)</td>\n",
       "      <td>189.0</td>\n",
       "      <td>4.0</td>\n",
       "      <td>MANUAL</td>\n",
       "      <td>rear wheel drive</td>\n",
       "      <td>2.0</td>\n",
       "      <td>Exotic,High-Performance</td>\n",
       "      <td>Compact</td>\n",
       "      <td>Convertible</td>\n",
       "      <td>27</td>\n",
       "      <td>21</td>\n",
       "      <td>613</td>\n",
       "      <td>47250</td>\n",
       "    </tr>\n",
       "    <tr>\n",
       "      <th>3915</th>\n",
       "      <td>Lotus</td>\n",
       "      <td>Elise</td>\n",
       "      <td>2010</td>\n",
       "      <td>premium unleaded (required)</td>\n",
       "      <td>189.0</td>\n",
       "      <td>4.0</td>\n",
       "      <td>MANUAL</td>\n",
       "      <td>rear wheel drive</td>\n",
       "      <td>2.0</td>\n",
       "      <td>Exotic,High-Performance</td>\n",
       "      <td>Compact</td>\n",
       "      <td>Convertible</td>\n",
       "      <td>27</td>\n",
       "      <td>21</td>\n",
       "      <td>613</td>\n",
       "      <td>47250</td>\n",
       "    </tr>\n",
       "    <tr>\n",
       "      <th>3916</th>\n",
       "      <td>Lotus</td>\n",
       "      <td>Elise</td>\n",
       "      <td>2010</td>\n",
       "      <td>premium unleaded (required)</td>\n",
       "      <td>218.0</td>\n",
       "      <td>4.0</td>\n",
       "      <td>MANUAL</td>\n",
       "      <td>rear wheel drive</td>\n",
       "      <td>2.0</td>\n",
       "      <td>Exotic,High-Performance</td>\n",
       "      <td>Compact</td>\n",
       "      <td>Convertible</td>\n",
       "      <td>26</td>\n",
       "      <td>20</td>\n",
       "      <td>613</td>\n",
       "      <td>54990</td>\n",
       "    </tr>\n",
       "    <tr>\n",
       "      <th>3917</th>\n",
       "      <td>Lotus</td>\n",
       "      <td>Elise</td>\n",
       "      <td>2011</td>\n",
       "      <td>premium unleaded (required)</td>\n",
       "      <td>189.0</td>\n",
       "      <td>4.0</td>\n",
       "      <td>MANUAL</td>\n",
       "      <td>rear wheel drive</td>\n",
       "      <td>2.0</td>\n",
       "      <td>Exotic,High-Performance</td>\n",
       "      <td>Compact</td>\n",
       "      <td>Convertible</td>\n",
       "      <td>27</td>\n",
       "      <td>21</td>\n",
       "      <td>613</td>\n",
       "      <td>51845</td>\n",
       "    </tr>\n",
       "    <tr>\n",
       "      <th>3918</th>\n",
       "      <td>Lotus</td>\n",
       "      <td>Elise</td>\n",
       "      <td>2011</td>\n",
       "      <td>premium unleaded (required)</td>\n",
       "      <td>217.0</td>\n",
       "      <td>4.0</td>\n",
       "      <td>MANUAL</td>\n",
       "      <td>rear wheel drive</td>\n",
       "      <td>2.0</td>\n",
       "      <td>Exotic,High-Performance</td>\n",
       "      <td>Compact</td>\n",
       "      <td>Convertible</td>\n",
       "      <td>26</td>\n",
       "      <td>20</td>\n",
       "      <td>613</td>\n",
       "      <td>54990</td>\n",
       "    </tr>\n",
       "    <tr>\n",
       "      <th>3919</th>\n",
       "      <td>Lotus</td>\n",
       "      <td>Elise</td>\n",
       "      <td>2011</td>\n",
       "      <td>premium unleaded (required)</td>\n",
       "      <td>217.0</td>\n",
       "      <td>4.0</td>\n",
       "      <td>MANUAL</td>\n",
       "      <td>rear wheel drive</td>\n",
       "      <td>2.0</td>\n",
       "      <td>Exotic,High-Performance</td>\n",
       "      <td>Compact</td>\n",
       "      <td>Convertible</td>\n",
       "      <td>26</td>\n",
       "      <td>20</td>\n",
       "      <td>613</td>\n",
       "      <td>57950</td>\n",
       "    </tr>\n",
       "    <tr>\n",
       "      <th>4216</th>\n",
       "      <td>Lotus</td>\n",
       "      <td>Esprit</td>\n",
       "      <td>2002</td>\n",
       "      <td>premium unleaded (required)</td>\n",
       "      <td>350.0</td>\n",
       "      <td>8.0</td>\n",
       "      <td>MANUAL</td>\n",
       "      <td>rear wheel drive</td>\n",
       "      <td>2.0</td>\n",
       "      <td>Exotic,High-Performance</td>\n",
       "      <td>Compact</td>\n",
       "      <td>Coupe</td>\n",
       "      <td>21</td>\n",
       "      <td>14</td>\n",
       "      <td>613</td>\n",
       "      <td>89825</td>\n",
       "    </tr>\n",
       "    <tr>\n",
       "      <th>4217</th>\n",
       "      <td>Lotus</td>\n",
       "      <td>Esprit</td>\n",
       "      <td>2003</td>\n",
       "      <td>premium unleaded (required)</td>\n",
       "      <td>350.0</td>\n",
       "      <td>8.0</td>\n",
       "      <td>MANUAL</td>\n",
       "      <td>rear wheel drive</td>\n",
       "      <td>2.0</td>\n",
       "      <td>Exotic,High-Performance</td>\n",
       "      <td>Compact</td>\n",
       "      <td>Coupe</td>\n",
       "      <td>21</td>\n",
       "      <td>14</td>\n",
       "      <td>613</td>\n",
       "      <td>90825</td>\n",
       "    </tr>\n",
       "    <tr>\n",
       "      <th>4218</th>\n",
       "      <td>Lotus</td>\n",
       "      <td>Esprit</td>\n",
       "      <td>2004</td>\n",
       "      <td>premium unleaded (required)</td>\n",
       "      <td>350.0</td>\n",
       "      <td>8.0</td>\n",
       "      <td>MANUAL</td>\n",
       "      <td>rear wheel drive</td>\n",
       "      <td>2.0</td>\n",
       "      <td>Exotic,High-Performance</td>\n",
       "      <td>Compact</td>\n",
       "      <td>Coupe</td>\n",
       "      <td>21</td>\n",
       "      <td>14</td>\n",
       "      <td>613</td>\n",
       "      <td>93225</td>\n",
       "    </tr>\n",
       "    <tr>\n",
       "      <th>4257</th>\n",
       "      <td>Lotus</td>\n",
       "      <td>Evora 400</td>\n",
       "      <td>2017</td>\n",
       "      <td>premium unleaded (required)</td>\n",
       "      <td>400.0</td>\n",
       "      <td>6.0</td>\n",
       "      <td>MANUAL</td>\n",
       "      <td>rear wheel drive</td>\n",
       "      <td>2.0</td>\n",
       "      <td>Exotic,High-Performance</td>\n",
       "      <td>Compact</td>\n",
       "      <td>Coupe</td>\n",
       "      <td>39</td>\n",
       "      <td>21</td>\n",
       "      <td>613</td>\n",
       "      <td>91900</td>\n",
       "    </tr>\n",
       "    <tr>\n",
       "      <th>4258</th>\n",
       "      <td>Lotus</td>\n",
       "      <td>Evora 400</td>\n",
       "      <td>2017</td>\n",
       "      <td>premium unleaded (required)</td>\n",
       "      <td>400.0</td>\n",
       "      <td>6.0</td>\n",
       "      <td>MANUAL</td>\n",
       "      <td>rear wheel drive</td>\n",
       "      <td>2.0</td>\n",
       "      <td>Exotic,High-Performance</td>\n",
       "      <td>Compact</td>\n",
       "      <td>Coupe</td>\n",
       "      <td>39</td>\n",
       "      <td>21</td>\n",
       "      <td>613</td>\n",
       "      <td>91900</td>\n",
       "    </tr>\n",
       "    <tr>\n",
       "      <th>4259</th>\n",
       "      <td>Lotus</td>\n",
       "      <td>Evora</td>\n",
       "      <td>2011</td>\n",
       "      <td>premium unleaded (required)</td>\n",
       "      <td>276.0</td>\n",
       "      <td>6.0</td>\n",
       "      <td>MANUAL</td>\n",
       "      <td>rear wheel drive</td>\n",
       "      <td>2.0</td>\n",
       "      <td>Exotic,High-Performance</td>\n",
       "      <td>Compact</td>\n",
       "      <td>Coupe</td>\n",
       "      <td>27</td>\n",
       "      <td>18</td>\n",
       "      <td>613</td>\n",
       "      <td>64000</td>\n",
       "    </tr>\n",
       "    <tr>\n",
       "      <th>4260</th>\n",
       "      <td>Lotus</td>\n",
       "      <td>Evora</td>\n",
       "      <td>2011</td>\n",
       "      <td>premium unleaded (required)</td>\n",
       "      <td>276.0</td>\n",
       "      <td>6.0</td>\n",
       "      <td>MANUAL</td>\n",
       "      <td>rear wheel drive</td>\n",
       "      <td>2.0</td>\n",
       "      <td>Exotic,High-Performance</td>\n",
       "      <td>Compact</td>\n",
       "      <td>Coupe</td>\n",
       "      <td>26</td>\n",
       "      <td>18</td>\n",
       "      <td>613</td>\n",
       "      <td>65500</td>\n",
       "    </tr>\n",
       "    <tr>\n",
       "      <th>4261</th>\n",
       "      <td>Lotus</td>\n",
       "      <td>Evora</td>\n",
       "      <td>2013</td>\n",
       "      <td>premium unleaded (required)</td>\n",
       "      <td>276.0</td>\n",
       "      <td>6.0</td>\n",
       "      <td>MANUAL</td>\n",
       "      <td>rear wheel drive</td>\n",
       "      <td>2.0</td>\n",
       "      <td>Exotic,High-Performance</td>\n",
       "      <td>Compact</td>\n",
       "      <td>Coupe</td>\n",
       "      <td>26</td>\n",
       "      <td>18</td>\n",
       "      <td>613</td>\n",
       "      <td>66800</td>\n",
       "    </tr>\n",
       "    <tr>\n",
       "      <th>4262</th>\n",
       "      <td>Lotus</td>\n",
       "      <td>Evora</td>\n",
       "      <td>2013</td>\n",
       "      <td>premium unleaded (required)</td>\n",
       "      <td>345.0</td>\n",
       "      <td>6.0</td>\n",
       "      <td>MANUAL</td>\n",
       "      <td>rear wheel drive</td>\n",
       "      <td>2.0</td>\n",
       "      <td>Exotic,High-Performance</td>\n",
       "      <td>Compact</td>\n",
       "      <td>Coupe</td>\n",
       "      <td>26</td>\n",
       "      <td>17</td>\n",
       "      <td>613</td>\n",
       "      <td>77100</td>\n",
       "    </tr>\n",
       "    <tr>\n",
       "      <th>4263</th>\n",
       "      <td>Lotus</td>\n",
       "      <td>Evora</td>\n",
       "      <td>2013</td>\n",
       "      <td>premium unleaded (required)</td>\n",
       "      <td>345.0</td>\n",
       "      <td>6.0</td>\n",
       "      <td>MANUAL</td>\n",
       "      <td>rear wheel drive</td>\n",
       "      <td>2.0</td>\n",
       "      <td>Exotic,High-Performance</td>\n",
       "      <td>Compact</td>\n",
       "      <td>Coupe</td>\n",
       "      <td>26</td>\n",
       "      <td>17</td>\n",
       "      <td>613</td>\n",
       "      <td>78600</td>\n",
       "    </tr>\n",
       "    <tr>\n",
       "      <th>4264</th>\n",
       "      <td>Lotus</td>\n",
       "      <td>Evora</td>\n",
       "      <td>2013</td>\n",
       "      <td>premium unleaded (required)</td>\n",
       "      <td>276.0</td>\n",
       "      <td>6.0</td>\n",
       "      <td>MANUAL</td>\n",
       "      <td>rear wheel drive</td>\n",
       "      <td>2.0</td>\n",
       "      <td>Exotic,High-Performance</td>\n",
       "      <td>Compact</td>\n",
       "      <td>Coupe</td>\n",
       "      <td>26</td>\n",
       "      <td>18</td>\n",
       "      <td>613</td>\n",
       "      <td>68300</td>\n",
       "    </tr>\n",
       "    <tr>\n",
       "      <th>4265</th>\n",
       "      <td>Lotus</td>\n",
       "      <td>Evora</td>\n",
       "      <td>2014</td>\n",
       "      <td>premium unleaded (required)</td>\n",
       "      <td>345.0</td>\n",
       "      <td>6.0</td>\n",
       "      <td>MANUAL</td>\n",
       "      <td>rear wheel drive</td>\n",
       "      <td>2.0</td>\n",
       "      <td>Exotic,High-Performance</td>\n",
       "      <td>Compact</td>\n",
       "      <td>Coupe</td>\n",
       "      <td>26</td>\n",
       "      <td>17</td>\n",
       "      <td>613</td>\n",
       "      <td>78750</td>\n",
       "    </tr>\n",
       "    <tr>\n",
       "      <th>4266</th>\n",
       "      <td>Lotus</td>\n",
       "      <td>Evora</td>\n",
       "      <td>2014</td>\n",
       "      <td>premium unleaded (required)</td>\n",
       "      <td>276.0</td>\n",
       "      <td>6.0</td>\n",
       "      <td>MANUAL</td>\n",
       "      <td>rear wheel drive</td>\n",
       "      <td>2.0</td>\n",
       "      <td>Exotic,High-Performance</td>\n",
       "      <td>Compact</td>\n",
       "      <td>Coupe</td>\n",
       "      <td>26</td>\n",
       "      <td>18</td>\n",
       "      <td>613</td>\n",
       "      <td>68750</td>\n",
       "    </tr>\n",
       "    <tr>\n",
       "      <th>4267</th>\n",
       "      <td>Lotus</td>\n",
       "      <td>Evora</td>\n",
       "      <td>2014</td>\n",
       "      <td>premium unleaded (required)</td>\n",
       "      <td>345.0</td>\n",
       "      <td>6.0</td>\n",
       "      <td>MANUAL</td>\n",
       "      <td>rear wheel drive</td>\n",
       "      <td>2.0</td>\n",
       "      <td>Exotic,High-Performance</td>\n",
       "      <td>Compact</td>\n",
       "      <td>Coupe</td>\n",
       "      <td>26</td>\n",
       "      <td>17</td>\n",
       "      <td>613</td>\n",
       "      <td>79980</td>\n",
       "    </tr>\n",
       "    <tr>\n",
       "      <th>4268</th>\n",
       "      <td>Lotus</td>\n",
       "      <td>Evora</td>\n",
       "      <td>2014</td>\n",
       "      <td>premium unleaded (required)</td>\n",
       "      <td>276.0</td>\n",
       "      <td>6.0</td>\n",
       "      <td>MANUAL</td>\n",
       "      <td>rear wheel drive</td>\n",
       "      <td>2.0</td>\n",
       "      <td>Exotic,High-Performance</td>\n",
       "      <td>Compact</td>\n",
       "      <td>Coupe</td>\n",
       "      <td>26</td>\n",
       "      <td>18</td>\n",
       "      <td>613</td>\n",
       "      <td>69980</td>\n",
       "    </tr>\n",
       "    <tr>\n",
       "      <th>4292</th>\n",
       "      <td>Lotus</td>\n",
       "      <td>Exige</td>\n",
       "      <td>2009</td>\n",
       "      <td>premium unleaded (recommended)</td>\n",
       "      <td>257.0</td>\n",
       "      <td>4.0</td>\n",
       "      <td>MANUAL</td>\n",
       "      <td>rear wheel drive</td>\n",
       "      <td>2.0</td>\n",
       "      <td>Exotic,High-Performance</td>\n",
       "      <td>Compact</td>\n",
       "      <td>Coupe</td>\n",
       "      <td>26</td>\n",
       "      <td>20</td>\n",
       "      <td>613</td>\n",
       "      <td>74995</td>\n",
       "    </tr>\n",
       "    <tr>\n",
       "      <th>4293</th>\n",
       "      <td>Lotus</td>\n",
       "      <td>Exige</td>\n",
       "      <td>2009</td>\n",
       "      <td>premium unleaded (recommended)</td>\n",
       "      <td>240.0</td>\n",
       "      <td>4.0</td>\n",
       "      <td>MANUAL</td>\n",
       "      <td>rear wheel drive</td>\n",
       "      <td>2.0</td>\n",
       "      <td>Exotic,High-Performance</td>\n",
       "      <td>Compact</td>\n",
       "      <td>Coupe</td>\n",
       "      <td>26</td>\n",
       "      <td>20</td>\n",
       "      <td>613</td>\n",
       "      <td>65690</td>\n",
       "    </tr>\n",
       "    <tr>\n",
       "      <th>4294</th>\n",
       "      <td>Lotus</td>\n",
       "      <td>Exige</td>\n",
       "      <td>2010</td>\n",
       "      <td>premium unleaded (recommended)</td>\n",
       "      <td>240.0</td>\n",
       "      <td>4.0</td>\n",
       "      <td>MANUAL</td>\n",
       "      <td>rear wheel drive</td>\n",
       "      <td>2.0</td>\n",
       "      <td>Exotic,High-Performance</td>\n",
       "      <td>Compact</td>\n",
       "      <td>Coupe</td>\n",
       "      <td>26</td>\n",
       "      <td>20</td>\n",
       "      <td>613</td>\n",
       "      <td>65690</td>\n",
       "    </tr>\n",
       "    <tr>\n",
       "      <th>4295</th>\n",
       "      <td>Lotus</td>\n",
       "      <td>Exige</td>\n",
       "      <td>2011</td>\n",
       "      <td>premium unleaded (recommended)</td>\n",
       "      <td>240.0</td>\n",
       "      <td>4.0</td>\n",
       "      <td>MANUAL</td>\n",
       "      <td>rear wheel drive</td>\n",
       "      <td>2.0</td>\n",
       "      <td>Exotic,High-Performance</td>\n",
       "      <td>Compact</td>\n",
       "      <td>Coupe</td>\n",
       "      <td>26</td>\n",
       "      <td>20</td>\n",
       "      <td>613</td>\n",
       "      <td>65690</td>\n",
       "    </tr>\n",
       "    <tr>\n",
       "      <th>4296</th>\n",
       "      <td>Lotus</td>\n",
       "      <td>Exige</td>\n",
       "      <td>2011</td>\n",
       "      <td>premium unleaded (recommended)</td>\n",
       "      <td>257.0</td>\n",
       "      <td>4.0</td>\n",
       "      <td>MANUAL</td>\n",
       "      <td>rear wheel drive</td>\n",
       "      <td>2.0</td>\n",
       "      <td>Exotic,High-Performance</td>\n",
       "      <td>Compact</td>\n",
       "      <td>Coupe</td>\n",
       "      <td>26</td>\n",
       "      <td>20</td>\n",
       "      <td>613</td>\n",
       "      <td>70750</td>\n",
       "    </tr>\n",
       "    <tr>\n",
       "      <th>4297</th>\n",
       "      <td>Lotus</td>\n",
       "      <td>Exige</td>\n",
       "      <td>2011</td>\n",
       "      <td>premium unleaded (recommended)</td>\n",
       "      <td>257.0</td>\n",
       "      <td>4.0</td>\n",
       "      <td>MANUAL</td>\n",
       "      <td>rear wheel drive</td>\n",
       "      <td>2.0</td>\n",
       "      <td>Exotic,High-Performance</td>\n",
       "      <td>Compact</td>\n",
       "      <td>Coupe</td>\n",
       "      <td>26</td>\n",
       "      <td>20</td>\n",
       "      <td>613</td>\n",
       "      <td>74950</td>\n",
       "    </tr>\n",
       "  </tbody>\n",
       "</table>\n",
       "</div>"
      ],
      "text/plain": [
       "       Make      Model  Year                Engine Fuel Type  Engine HP  \\\n",
       "3912  Lotus      Elise  2009     premium unleaded (required)      189.0   \n",
       "3913  Lotus      Elise  2009     premium unleaded (required)      218.0   \n",
       "3914  Lotus      Elise  2009     premium unleaded (required)      189.0   \n",
       "3915  Lotus      Elise  2010     premium unleaded (required)      189.0   \n",
       "3916  Lotus      Elise  2010     premium unleaded (required)      218.0   \n",
       "3917  Lotus      Elise  2011     premium unleaded (required)      189.0   \n",
       "3918  Lotus      Elise  2011     premium unleaded (required)      217.0   \n",
       "3919  Lotus      Elise  2011     premium unleaded (required)      217.0   \n",
       "4216  Lotus     Esprit  2002     premium unleaded (required)      350.0   \n",
       "4217  Lotus     Esprit  2003     premium unleaded (required)      350.0   \n",
       "4218  Lotus     Esprit  2004     premium unleaded (required)      350.0   \n",
       "4257  Lotus  Evora 400  2017     premium unleaded (required)      400.0   \n",
       "4258  Lotus  Evora 400  2017     premium unleaded (required)      400.0   \n",
       "4259  Lotus      Evora  2011     premium unleaded (required)      276.0   \n",
       "4260  Lotus      Evora  2011     premium unleaded (required)      276.0   \n",
       "4261  Lotus      Evora  2013     premium unleaded (required)      276.0   \n",
       "4262  Lotus      Evora  2013     premium unleaded (required)      345.0   \n",
       "4263  Lotus      Evora  2013     premium unleaded (required)      345.0   \n",
       "4264  Lotus      Evora  2013     premium unleaded (required)      276.0   \n",
       "4265  Lotus      Evora  2014     premium unleaded (required)      345.0   \n",
       "4266  Lotus      Evora  2014     premium unleaded (required)      276.0   \n",
       "4267  Lotus      Evora  2014     premium unleaded (required)      345.0   \n",
       "4268  Lotus      Evora  2014     premium unleaded (required)      276.0   \n",
       "4292  Lotus      Exige  2009  premium unleaded (recommended)      257.0   \n",
       "4293  Lotus      Exige  2009  premium unleaded (recommended)      240.0   \n",
       "4294  Lotus      Exige  2010  premium unleaded (recommended)      240.0   \n",
       "4295  Lotus      Exige  2011  premium unleaded (recommended)      240.0   \n",
       "4296  Lotus      Exige  2011  premium unleaded (recommended)      257.0   \n",
       "4297  Lotus      Exige  2011  premium unleaded (recommended)      257.0   \n",
       "\n",
       "      Engine Cylinders Transmission Type     Driven_Wheels  Number of Doors  \\\n",
       "3912               4.0            MANUAL  rear wheel drive              2.0   \n",
       "3913               4.0            MANUAL  rear wheel drive              2.0   \n",
       "3914               4.0            MANUAL  rear wheel drive              2.0   \n",
       "3915               4.0            MANUAL  rear wheel drive              2.0   \n",
       "3916               4.0            MANUAL  rear wheel drive              2.0   \n",
       "3917               4.0            MANUAL  rear wheel drive              2.0   \n",
       "3918               4.0            MANUAL  rear wheel drive              2.0   \n",
       "3919               4.0            MANUAL  rear wheel drive              2.0   \n",
       "4216               8.0            MANUAL  rear wheel drive              2.0   \n",
       "4217               8.0            MANUAL  rear wheel drive              2.0   \n",
       "4218               8.0            MANUAL  rear wheel drive              2.0   \n",
       "4257               6.0            MANUAL  rear wheel drive              2.0   \n",
       "4258               6.0            MANUAL  rear wheel drive              2.0   \n",
       "4259               6.0            MANUAL  rear wheel drive              2.0   \n",
       "4260               6.0            MANUAL  rear wheel drive              2.0   \n",
       "4261               6.0            MANUAL  rear wheel drive              2.0   \n",
       "4262               6.0            MANUAL  rear wheel drive              2.0   \n",
       "4263               6.0            MANUAL  rear wheel drive              2.0   \n",
       "4264               6.0            MANUAL  rear wheel drive              2.0   \n",
       "4265               6.0            MANUAL  rear wheel drive              2.0   \n",
       "4266               6.0            MANUAL  rear wheel drive              2.0   \n",
       "4267               6.0            MANUAL  rear wheel drive              2.0   \n",
       "4268               6.0            MANUAL  rear wheel drive              2.0   \n",
       "4292               4.0            MANUAL  rear wheel drive              2.0   \n",
       "4293               4.0            MANUAL  rear wheel drive              2.0   \n",
       "4294               4.0            MANUAL  rear wheel drive              2.0   \n",
       "4295               4.0            MANUAL  rear wheel drive              2.0   \n",
       "4296               4.0            MANUAL  rear wheel drive              2.0   \n",
       "4297               4.0            MANUAL  rear wheel drive              2.0   \n",
       "\n",
       "              Market Category Vehicle Size Vehicle Style  highway MPG  \\\n",
       "3912  Exotic,High-Performance      Compact   Convertible           27   \n",
       "3913  Exotic,High-Performance      Compact   Convertible           26   \n",
       "3914  Exotic,High-Performance      Compact   Convertible           27   \n",
       "3915  Exotic,High-Performance      Compact   Convertible           27   \n",
       "3916  Exotic,High-Performance      Compact   Convertible           26   \n",
       "3917  Exotic,High-Performance      Compact   Convertible           27   \n",
       "3918  Exotic,High-Performance      Compact   Convertible           26   \n",
       "3919  Exotic,High-Performance      Compact   Convertible           26   \n",
       "4216  Exotic,High-Performance      Compact         Coupe           21   \n",
       "4217  Exotic,High-Performance      Compact         Coupe           21   \n",
       "4218  Exotic,High-Performance      Compact         Coupe           21   \n",
       "4257  Exotic,High-Performance      Compact         Coupe           39   \n",
       "4258  Exotic,High-Performance      Compact         Coupe           39   \n",
       "4259  Exotic,High-Performance      Compact         Coupe           27   \n",
       "4260  Exotic,High-Performance      Compact         Coupe           26   \n",
       "4261  Exotic,High-Performance      Compact         Coupe           26   \n",
       "4262  Exotic,High-Performance      Compact         Coupe           26   \n",
       "4263  Exotic,High-Performance      Compact         Coupe           26   \n",
       "4264  Exotic,High-Performance      Compact         Coupe           26   \n",
       "4265  Exotic,High-Performance      Compact         Coupe           26   \n",
       "4266  Exotic,High-Performance      Compact         Coupe           26   \n",
       "4267  Exotic,High-Performance      Compact         Coupe           26   \n",
       "4268  Exotic,High-Performance      Compact         Coupe           26   \n",
       "4292  Exotic,High-Performance      Compact         Coupe           26   \n",
       "4293  Exotic,High-Performance      Compact         Coupe           26   \n",
       "4294  Exotic,High-Performance      Compact         Coupe           26   \n",
       "4295  Exotic,High-Performance      Compact         Coupe           26   \n",
       "4296  Exotic,High-Performance      Compact         Coupe           26   \n",
       "4297  Exotic,High-Performance      Compact         Coupe           26   \n",
       "\n",
       "      city mpg  Popularity   MSRP  \n",
       "3912        21         613  43995  \n",
       "3913        20         613  54990  \n",
       "3914        21         613  47250  \n",
       "3915        21         613  47250  \n",
       "3916        20         613  54990  \n",
       "3917        21         613  51845  \n",
       "3918        20         613  54990  \n",
       "3919        20         613  57950  \n",
       "4216        14         613  89825  \n",
       "4217        14         613  90825  \n",
       "4218        14         613  93225  \n",
       "4257        21         613  91900  \n",
       "4258        21         613  91900  \n",
       "4259        18         613  64000  \n",
       "4260        18         613  65500  \n",
       "4261        18         613  66800  \n",
       "4262        17         613  77100  \n",
       "4263        17         613  78600  \n",
       "4264        18         613  68300  \n",
       "4265        17         613  78750  \n",
       "4266        18         613  68750  \n",
       "4267        17         613  79980  \n",
       "4268        18         613  69980  \n",
       "4292        20         613  74995  \n",
       "4293        20         613  65690  \n",
       "4294        20         613  65690  \n",
       "4295        20         613  65690  \n",
       "4296        20         613  70750  \n",
       "4297        20         613  74950  "
      ]
     },
     "execution_count": 20,
     "metadata": {},
     "output_type": "execute_result"
    }
   ],
   "source": [
    "# 1. Select all the \"Lotus\" cars from the dataset.\n",
    "df[df.Make == 'Lotus']"
   ]
  },
  {
   "cell_type": "code",
   "execution_count": 31,
   "id": "455404cd",
   "metadata": {},
   "outputs": [
    {
     "data": {
      "text/html": [
       "<div>\n",
       "<style scoped>\n",
       "    .dataframe tbody tr th:only-of-type {\n",
       "        vertical-align: middle;\n",
       "    }\n",
       "\n",
       "    .dataframe tbody tr th {\n",
       "        vertical-align: top;\n",
       "    }\n",
       "\n",
       "    .dataframe thead th {\n",
       "        text-align: right;\n",
       "    }\n",
       "</style>\n",
       "<table border=\"1\" class=\"dataframe\">\n",
       "  <thead>\n",
       "    <tr style=\"text-align: right;\">\n",
       "      <th></th>\n",
       "      <th>Engine HP</th>\n",
       "      <th>Engine Cylinders</th>\n",
       "    </tr>\n",
       "  </thead>\n",
       "  <tbody>\n",
       "    <tr>\n",
       "      <th>0</th>\n",
       "      <td>335.0</td>\n",
       "      <td>6.0</td>\n",
       "    </tr>\n",
       "    <tr>\n",
       "      <th>1</th>\n",
       "      <td>300.0</td>\n",
       "      <td>6.0</td>\n",
       "    </tr>\n",
       "    <tr>\n",
       "      <th>2</th>\n",
       "      <td>300.0</td>\n",
       "      <td>6.0</td>\n",
       "    </tr>\n",
       "    <tr>\n",
       "      <th>3</th>\n",
       "      <td>230.0</td>\n",
       "      <td>6.0</td>\n",
       "    </tr>\n",
       "    <tr>\n",
       "      <th>4</th>\n",
       "      <td>230.0</td>\n",
       "      <td>6.0</td>\n",
       "    </tr>\n",
       "    <tr>\n",
       "      <th>...</th>\n",
       "      <td>...</td>\n",
       "      <td>...</td>\n",
       "    </tr>\n",
       "    <tr>\n",
       "      <th>11909</th>\n",
       "      <td>300.0</td>\n",
       "      <td>6.0</td>\n",
       "    </tr>\n",
       "    <tr>\n",
       "      <th>11910</th>\n",
       "      <td>300.0</td>\n",
       "      <td>6.0</td>\n",
       "    </tr>\n",
       "    <tr>\n",
       "      <th>11911</th>\n",
       "      <td>300.0</td>\n",
       "      <td>6.0</td>\n",
       "    </tr>\n",
       "    <tr>\n",
       "      <th>11912</th>\n",
       "      <td>300.0</td>\n",
       "      <td>6.0</td>\n",
       "    </tr>\n",
       "    <tr>\n",
       "      <th>11913</th>\n",
       "      <td>221.0</td>\n",
       "      <td>6.0</td>\n",
       "    </tr>\n",
       "  </tbody>\n",
       "</table>\n",
       "<p>11914 rows × 2 columns</p>\n",
       "</div>"
      ],
      "text/plain": [
       "       Engine HP  Engine Cylinders\n",
       "0          335.0               6.0\n",
       "1          300.0               6.0\n",
       "2          300.0               6.0\n",
       "3          230.0               6.0\n",
       "4          230.0               6.0\n",
       "...          ...               ...\n",
       "11909      300.0               6.0\n",
       "11910      300.0               6.0\n",
       "11911      300.0               6.0\n",
       "11912      300.0               6.0\n",
       "11913      221.0               6.0\n",
       "\n",
       "[11914 rows x 2 columns]"
      ]
     },
     "execution_count": 31,
     "metadata": {},
     "output_type": "execute_result"
    }
   ],
   "source": [
    "# 2. Select only columns \"Engine HP\", \"Engine Cylinders\".\n",
    "df[['Engine HP', 'Engine Cylinders']]"
   ]
  },
  {
   "cell_type": "code",
   "execution_count": 32,
   "id": "bb171324",
   "metadata": {},
   "outputs": [
    {
     "data": {
      "text/html": [
       "<div>\n",
       "<style scoped>\n",
       "    .dataframe tbody tr th:only-of-type {\n",
       "        vertical-align: middle;\n",
       "    }\n",
       "\n",
       "    .dataframe tbody tr th {\n",
       "        vertical-align: top;\n",
       "    }\n",
       "\n",
       "    .dataframe thead th {\n",
       "        text-align: right;\n",
       "    }\n",
       "</style>\n",
       "<table border=\"1\" class=\"dataframe\">\n",
       "  <thead>\n",
       "    <tr style=\"text-align: right;\">\n",
       "      <th></th>\n",
       "      <th>Engine HP</th>\n",
       "      <th>Engine Cylinders</th>\n",
       "    </tr>\n",
       "  </thead>\n",
       "  <tbody>\n",
       "    <tr>\n",
       "      <th>3912</th>\n",
       "      <td>189.0</td>\n",
       "      <td>4.0</td>\n",
       "    </tr>\n",
       "    <tr>\n",
       "      <th>3913</th>\n",
       "      <td>218.0</td>\n",
       "      <td>4.0</td>\n",
       "    </tr>\n",
       "    <tr>\n",
       "      <th>3918</th>\n",
       "      <td>217.0</td>\n",
       "      <td>4.0</td>\n",
       "    </tr>\n",
       "    <tr>\n",
       "      <th>4216</th>\n",
       "      <td>350.0</td>\n",
       "      <td>8.0</td>\n",
       "    </tr>\n",
       "    <tr>\n",
       "      <th>4257</th>\n",
       "      <td>400.0</td>\n",
       "      <td>6.0</td>\n",
       "    </tr>\n",
       "    <tr>\n",
       "      <th>4259</th>\n",
       "      <td>276.0</td>\n",
       "      <td>6.0</td>\n",
       "    </tr>\n",
       "    <tr>\n",
       "      <th>4262</th>\n",
       "      <td>345.0</td>\n",
       "      <td>6.0</td>\n",
       "    </tr>\n",
       "    <tr>\n",
       "      <th>4292</th>\n",
       "      <td>257.0</td>\n",
       "      <td>4.0</td>\n",
       "    </tr>\n",
       "    <tr>\n",
       "      <th>4293</th>\n",
       "      <td>240.0</td>\n",
       "      <td>4.0</td>\n",
       "    </tr>\n",
       "  </tbody>\n",
       "</table>\n",
       "</div>"
      ],
      "text/plain": [
       "      Engine HP  Engine Cylinders\n",
       "3912      189.0               4.0\n",
       "3913      218.0               4.0\n",
       "3918      217.0               4.0\n",
       "4216      350.0               8.0\n",
       "4257      400.0               6.0\n",
       "4259      276.0               6.0\n",
       "4262      345.0               6.0\n",
       "4292      257.0               4.0\n",
       "4293      240.0               4.0"
      ]
     },
     "execution_count": 32,
     "metadata": {},
     "output_type": "execute_result"
    }
   ],
   "source": [
    "# 3. Now drop all duplicated rows using drop_duplicates method (you should get a dataframe with 9 rows).\n",
    "df[df.Make == 'Lotus'][['Engine HP', 'Engine Cylinders']].drop_duplicates()"
   ]
  },
  {
   "cell_type": "code",
   "execution_count": 33,
   "id": "601e6e23",
   "metadata": {},
   "outputs": [],
   "source": [
    "# 4. Get the underlying NumPy array. Let's call it X."
   ]
  },
  {
   "cell_type": "code",
   "execution_count": 34,
   "id": "f1b0e20d",
   "metadata": {},
   "outputs": [],
   "source": [
    "# 5. Compute matrix-matrix multiplication between the transpose of X and X. To get the transpose, use X.T. Let's call the result XTX."
   ]
  },
  {
   "cell_type": "code",
   "execution_count": 35,
   "id": "752afd82",
   "metadata": {},
   "outputs": [],
   "source": [
    "# 6. Invert XTX."
   ]
  },
  {
   "cell_type": "code",
   "execution_count": 36,
   "id": "3e12fb3a",
   "metadata": {},
   "outputs": [],
   "source": [
    "# 7. Create an array y with values [1100, 800, 750, 850, 1300, 1000, 1000, 1300, 800].\n",
    "y = np.array([1100, 800, 750, 850, 1300, 1000, 1000, 1300, 800])"
   ]
  },
  {
   "cell_type": "code",
   "execution_count": 38,
   "id": "27a5eaed",
   "metadata": {},
   "outputs": [],
   "source": [
    "# 8. Multiply the inverse of XTX with the transpose of X, and then multiply the result by y. Call the result w."
   ]
  },
  {
   "cell_type": "code",
   "execution_count": 39,
   "id": "d942d51a",
   "metadata": {},
   "outputs": [],
   "source": [
    "# 9. What's the value of the first element of w?"
   ]
  },
  {
   "cell_type": "code",
   "execution_count": null,
   "id": "39762370",
   "metadata": {},
   "outputs": [],
   "source": []
  }
 ],
 "metadata": {
  "kernelspec": {
   "display_name": "Python 3.10.4 ('ml-zoomcamp')",
   "language": "python",
   "name": "python3"
  },
  "language_info": {
   "codemirror_mode": {
    "name": "ipython",
    "version": 3
   },
   "file_extension": ".py",
   "mimetype": "text/x-python",
   "name": "python",
   "nbconvert_exporter": "python",
   "pygments_lexer": "ipython3",
   "version": "3.10.4"
  },
  "vscode": {
   "interpreter": {
    "hash": "98cae4c0950e14cccdbd96a7bf6be13e28acd7ae11d45bd30c7306f913080d95"
   }
  }
 },
 "nbformat": 4,
 "nbformat_minor": 5
}
